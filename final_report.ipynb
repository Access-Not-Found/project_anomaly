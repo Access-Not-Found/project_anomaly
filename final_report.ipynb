{
 "cells": [
  {
   "cell_type": "markdown",
   "id": "9a6b11c4",
   "metadata": {},
   "source": [
    "# Access Not Found: Anomaly Detection Project"
   ]
  },
  {
   "cell_type": "markdown",
   "id": "4e9eaaac",
   "metadata": {},
   "source": [
    "## Goal: \n",
    "* Answer 5 questions sent through e-mail."
   ]
  },
  {
   "cell_type": "markdown",
   "id": "d4962439",
   "metadata": {},
   "source": [
    "## Imports"
   ]
  },
  {
   "cell_type": "code",
   "execution_count": 1,
   "id": "d815a0f8",
   "metadata": {},
   "outputs": [],
   "source": [
    "#.py modules\n",
    "import wrangle as wr\n",
    "import explore as ex\n",
    "\n",
    "#numbers\n",
    "import pandas as pd\n",
    "import numpy as np\n",
    "\n",
    "#vizzes\n",
    "import matplotlib.pyplot as plt\n",
    "import seaborn as sns"
   ]
  },
  {
   "cell_type": "markdown",
   "id": "fe383836",
   "metadata": {},
   "source": [
    "> # `Wrangle`"
   ]
  },
  {
   "cell_type": "markdown",
   "id": "293fb904",
   "metadata": {},
   "source": [
    "### Acquire\n",
    "* Data acquired from mySQL Codeup Server using env.py credentials\n",
    "* Each row represents a visitor\n",
    "* Each column represents a feature of the visitor request "
   ]
  },
  {
   "cell_type": "markdown",
   "id": "fb256470",
   "metadata": {},
   "source": [
    "### Prepare\n",
    "* Checked column data types\n",
    "    * changed total charges from an object to a float\n",
    "* Checked for nulls\n",
    "    * total charges contained 11 nulls for new customers\n",
    "    * imputed the corresponding monthly charges value\n",
    "* Encoded categoricals\n",
    "* Split data into train, validate and test (60/20/20)\n",
    "    * target = 'churn'\n",
    "* Outliers have not been removed for this iteration of the project"
   ]
  },
  {
   "cell_type": "markdown",
   "id": "52f349b8",
   "metadata": {},
   "source": [
    "### Data Dictionary"
   ]
  },
  {
   "cell_type": "markdown",
   "id": "5e7af5c5",
   "metadata": {},
   "source": [
    "| Feature | Definition |\n",
    "|:--------|:-----------|\n",
    "|| |   \n",
    "|| |\n",
    "|| |   \n",
    "|| |            \n",
    "|| |   \n",
    "|| |\n",
    "|| |   \n",
    "|| |\n",
    "|| |\n",
    "|| |\n",
    "|| |"
   ]
  },
  {
   "cell_type": "code",
   "execution_count": 1,
   "id": "d3eb2022",
   "metadata": {},
   "outputs": [],
   "source": [
    "# # acquiring data\n",
    "# df1 = \n",
    "\n",
    "# # cleaning data and saving to a clean df\n",
    "# df = "
   ]
  },
  {
   "cell_type": "markdown",
   "id": "d39e2f6f",
   "metadata": {},
   "source": [
    "> # `Explore`"
   ]
  },
  {
   "cell_type": "markdown",
   "id": "bd991117",
   "metadata": {},
   "source": [
    "### Questions To Answer:\n",
    "1. Which lesson appears to attract the most traffic consistently across cohorts (per program)?\n",
    "2. Is there a cohort that referred to a lesson significantly more than other cohorts seemed to gloss over?\n",
    "3. Are there students who, when active, hardly access the curriculum? If so, what information do you have about these students?\n",
    "4. What topics are grads continuing to reference after graduation and into their jobs (for each program)?\n",
    "5. Which lessons are least accessed?\n",
    "6. Anything else of note..."
   ]
  },
  {
   "cell_type": "markdown",
   "id": "e921a975",
   "metadata": {},
   "source": [
    "## 1. Which lesson appears to attract the most traffic consistently across cohorts (per program)?"
   ]
  },
  {
   "cell_type": "code",
   "execution_count": 2,
   "id": "e6a21fa8",
   "metadata": {},
   "outputs": [],
   "source": [
    "#hypothesize"
   ]
  },
  {
   "cell_type": "code",
   "execution_count": 3,
   "id": "40cea495-17ea-4ffd-be3f-392d1664e5c4",
   "metadata": {},
   "outputs": [],
   "source": [
    "#analyze"
   ]
  },
  {
   "cell_type": "code",
   "execution_count": 4,
   "id": "76f82f8d-efe1-4834-a026-57f5455a32fa",
   "metadata": {},
   "outputs": [],
   "source": [
    "#visualize"
   ]
  },
  {
   "cell_type": "markdown",
   "id": "07d7f8ba",
   "metadata": {},
   "source": [
    "## 2. Is there a cohort that referred to a lesson significantly more than other cohorts seemed to gloss over?"
   ]
  },
  {
   "cell_type": "code",
   "execution_count": 2,
   "id": "6928f79f-6c57-4de0-8fd7-d0a2ca520596",
   "metadata": {},
   "outputs": [],
   "source": [
    "#hypothesize"
   ]
  },
  {
   "cell_type": "code",
   "execution_count": 3,
   "id": "70dc8891-30a1-423a-a2c3-a091f3d4a95a",
   "metadata": {},
   "outputs": [],
   "source": [
    "#analyze"
   ]
  },
  {
   "cell_type": "code",
   "execution_count": 4,
   "id": "3cb79152-b60b-4990-8849-023a3992e3ca",
   "metadata": {},
   "outputs": [],
   "source": [
    "#visualize"
   ]
  },
  {
   "cell_type": "markdown",
   "id": "07ee9611",
   "metadata": {
    "tags": []
   },
   "source": [
    "## 3. Are there students who, when active, hardly access the curriculum? If so, what information do you have about these students?"
   ]
  },
  {
   "cell_type": "code",
   "execution_count": 2,
   "id": "92bb1fd6-9300-404e-940e-b81df5d5d111",
   "metadata": {},
   "outputs": [],
   "source": [
    "#hypothesize"
   ]
  },
  {
   "cell_type": "code",
   "execution_count": 3,
   "id": "34525d67-35ad-446b-8392-9ac150a0039b",
   "metadata": {},
   "outputs": [],
   "source": [
    "#analyze"
   ]
  },
  {
   "cell_type": "code",
   "execution_count": 4,
   "id": "98077df0-e26c-48f6-a0e8-a8e2fc8ccad0",
   "metadata": {},
   "outputs": [],
   "source": [
    "#visualize"
   ]
  },
  {
   "cell_type": "markdown",
   "id": "ba80faee",
   "metadata": {},
   "source": [
    "## 4. What topics are grads continuing to reference after graduation and into their jobs (for each program)?"
   ]
  },
  {
   "cell_type": "code",
   "execution_count": 2,
   "id": "af022805-3f6b-4215-898c-4ba4b0350f13",
   "metadata": {},
   "outputs": [],
   "source": [
    "#hypothesize"
   ]
  },
  {
   "cell_type": "code",
   "execution_count": 3,
   "id": "9b3cb25b-fc09-4294-b1d3-cdb432e0b099",
   "metadata": {},
   "outputs": [],
   "source": [
    "#analyze"
   ]
  },
  {
   "cell_type": "code",
   "execution_count": 4,
   "id": "47874f1d-eca7-4bb3-8027-e3dedd27d73e",
   "metadata": {},
   "outputs": [],
   "source": [
    "#visualize"
   ]
  },
  {
   "cell_type": "markdown",
   "id": "d73fab65-e534-4133-b527-bcb45529cdad",
   "metadata": {},
   "source": [
    "## 5. Which lessons are least accessed?"
   ]
  },
  {
   "cell_type": "code",
   "execution_count": 2,
   "id": "de1e2017-6604-4ede-aef7-8270fb71ccae",
   "metadata": {},
   "outputs": [],
   "source": [
    "#hypothesize"
   ]
  },
  {
   "cell_type": "code",
   "execution_count": 3,
   "id": "3dfe6859-a83c-4dd8-96e6-90794c32e938",
   "metadata": {},
   "outputs": [],
   "source": [
    "#analyze"
   ]
  },
  {
   "cell_type": "code",
   "execution_count": 4,
   "id": "f4a5ad8a-de95-4790-85e3-365a01739e0e",
   "metadata": {},
   "outputs": [],
   "source": [
    "#visualize"
   ]
  },
  {
   "cell_type": "markdown",
   "id": "16b7f271-ca5f-4cf4-9342-c2f19e4a5fab",
   "metadata": {},
   "source": [
    "## 6. Anything else of note..."
   ]
  },
  {
   "cell_type": "code",
   "execution_count": 2,
   "id": "ce99797f-f056-4893-8622-f393c406d8ad",
   "metadata": {},
   "outputs": [],
   "source": [
    "#hypothesize"
   ]
  },
  {
   "cell_type": "code",
   "execution_count": 3,
   "id": "be4684e4-dbdc-4f27-ab83-d0a0d36df8d2",
   "metadata": {},
   "outputs": [],
   "source": [
    "#analyze"
   ]
  },
  {
   "cell_type": "code",
   "execution_count": 4,
   "id": "6d9bee4d-7715-43e7-92a3-6a0a2d175116",
   "metadata": {},
   "outputs": [],
   "source": [
    "#visualize"
   ]
  },
  {
   "cell_type": "markdown",
   "id": "9793db8c",
   "metadata": {},
   "source": [
    "> # `Conclusion`"
   ]
  },
  {
   "cell_type": "markdown",
   "id": "dbcf2845",
   "metadata": {},
   "source": [
    "## Explore\n",
    "\n",
    "* \n",
    "\n",
    "* \n"
   ]
  },
  {
   "cell_type": "markdown",
   "id": "7ca1cfe3",
   "metadata": {},
   "source": [
    "## Recommendations\n",
    "\n",
    "* "
   ]
  }
 ],
 "metadata": {
  "kernelspec": {
   "display_name": "Python 3 (ipykernel)",
   "language": "python",
   "name": "python3"
  },
  "language_info": {
   "codemirror_mode": {
    "name": "ipython",
    "version": 3
   },
   "file_extension": ".py",
   "mimetype": "text/x-python",
   "name": "python",
   "nbconvert_exporter": "python",
   "pygments_lexer": "ipython3",
   "version": "3.9.13"
  }
 },
 "nbformat": 4,
 "nbformat_minor": 5
}
