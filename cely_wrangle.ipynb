{
 "cells": [
  {
   "cell_type": "code",
   "execution_count": 1,
   "id": "4fd59df3-24a5-4e11-a045-fc0ddb89f1db",
   "metadata": {},
   "outputs": [
    {
     "name": "stdout",
     "output_type": "stream",
     "text": [
      "Imports Successful\n"
     ]
    }
   ],
   "source": [
    "import warnings\n",
    "warnings.filterwarnings(\"ignore\")\n",
    "\n",
    "import matplotlib.pyplot as plt\n",
    "import seaborn as sns\n",
    "import numpy as np\n",
    "import pandas as pd\n",
    "import os\n",
    "import itertools\n",
    "import wrangle as w\n",
    "\n",
    "# DBSCAN import\n",
    "from sklearn.cluster import DBSCAN\n",
    "\n",
    "# Scaler import\n",
    "from sklearn.preprocessing import MinMaxScaler"
   ]
  },
  {
   "cell_type": "code",
   "execution_count": 2,
   "id": "d58f02e9-c844-4692-8615-33696213e041",
   "metadata": {},
   "outputs": [],
   "source": [
    "directory='/Users/chellyannmoreno/codeup-data-science/project_anomaly/'\n",
    "filename='logs.csv'"
   ]
  },
  {
   "cell_type": "code",
   "execution_count": 3,
   "id": "d3f4572d-451b-4ea7-99d7-f549375cb761",
   "metadata": {},
   "outputs": [],
   "source": [
    "df=w.get_logs(directory,filename)"
   ]
  },
  {
   "cell_type": "code",
   "execution_count": 4,
   "id": "e561f340-1a55-4717-8bc8-9319888869cd",
   "metadata": {},
   "outputs": [
    {
     "data": {
      "text/html": [
       "<div>\n",
       "<style scoped>\n",
       "    .dataframe tbody tr th:only-of-type {\n",
       "        vertical-align: middle;\n",
       "    }\n",
       "\n",
       "    .dataframe tbody tr th {\n",
       "        vertical-align: top;\n",
       "    }\n",
       "\n",
       "    .dataframe thead th {\n",
       "        text-align: right;\n",
       "    }\n",
       "</style>\n",
       "<table border=\"1\" class=\"dataframe\">\n",
       "  <thead>\n",
       "    <tr style=\"text-align: right;\">\n",
       "      <th></th>\n",
       "      <th>date</th>\n",
       "      <th>time</th>\n",
       "      <th>path</th>\n",
       "      <th>user_id</th>\n",
       "      <th>cohort_id</th>\n",
       "      <th>ip</th>\n",
       "      <th>id</th>\n",
       "      <th>name</th>\n",
       "      <th>slack</th>\n",
       "      <th>start_date</th>\n",
       "      <th>end_date</th>\n",
       "      <th>created_at</th>\n",
       "      <th>updated_at</th>\n",
       "      <th>deleted_at</th>\n",
       "      <th>program_id</th>\n",
       "    </tr>\n",
       "  </thead>\n",
       "  <tbody>\n",
       "    <tr>\n",
       "      <th>0</th>\n",
       "      <td>2018-01-26</td>\n",
       "      <td>09:55:03</td>\n",
       "      <td>/</td>\n",
       "      <td>1</td>\n",
       "      <td>8.0</td>\n",
       "      <td>97.105.19.61</td>\n",
       "      <td>8</td>\n",
       "      <td>Hampton</td>\n",
       "      <td>#hampton</td>\n",
       "      <td>2015-09-22</td>\n",
       "      <td>2016-02-06</td>\n",
       "      <td>2016-06-14 19:52:26</td>\n",
       "      <td>2016-06-14 19:52:26</td>\n",
       "      <td>None</td>\n",
       "      <td>1</td>\n",
       "    </tr>\n",
       "    <tr>\n",
       "      <th>1</th>\n",
       "      <td>2018-01-26</td>\n",
       "      <td>09:56:02</td>\n",
       "      <td>java-ii</td>\n",
       "      <td>1</td>\n",
       "      <td>8.0</td>\n",
       "      <td>97.105.19.61</td>\n",
       "      <td>8</td>\n",
       "      <td>Hampton</td>\n",
       "      <td>#hampton</td>\n",
       "      <td>2015-09-22</td>\n",
       "      <td>2016-02-06</td>\n",
       "      <td>2016-06-14 19:52:26</td>\n",
       "      <td>2016-06-14 19:52:26</td>\n",
       "      <td>None</td>\n",
       "      <td>1</td>\n",
       "    </tr>\n",
       "    <tr>\n",
       "      <th>2</th>\n",
       "      <td>2018-01-26</td>\n",
       "      <td>09:56:05</td>\n",
       "      <td>java-ii/object-oriented-programming</td>\n",
       "      <td>1</td>\n",
       "      <td>8.0</td>\n",
       "      <td>97.105.19.61</td>\n",
       "      <td>8</td>\n",
       "      <td>Hampton</td>\n",
       "      <td>#hampton</td>\n",
       "      <td>2015-09-22</td>\n",
       "      <td>2016-02-06</td>\n",
       "      <td>2016-06-14 19:52:26</td>\n",
       "      <td>2016-06-14 19:52:26</td>\n",
       "      <td>None</td>\n",
       "      <td>1</td>\n",
       "    </tr>\n",
       "    <tr>\n",
       "      <th>3</th>\n",
       "      <td>2018-01-26</td>\n",
       "      <td>09:56:06</td>\n",
       "      <td>slides/object_oriented_programming</td>\n",
       "      <td>1</td>\n",
       "      <td>8.0</td>\n",
       "      <td>97.105.19.61</td>\n",
       "      <td>8</td>\n",
       "      <td>Hampton</td>\n",
       "      <td>#hampton</td>\n",
       "      <td>2015-09-22</td>\n",
       "      <td>2016-02-06</td>\n",
       "      <td>2016-06-14 19:52:26</td>\n",
       "      <td>2016-06-14 19:52:26</td>\n",
       "      <td>None</td>\n",
       "      <td>1</td>\n",
       "    </tr>\n",
       "    <tr>\n",
       "      <th>4</th>\n",
       "      <td>2018-01-26</td>\n",
       "      <td>09:56:24</td>\n",
       "      <td>javascript-i/conditionals</td>\n",
       "      <td>2</td>\n",
       "      <td>22.0</td>\n",
       "      <td>97.105.19.61</td>\n",
       "      <td>22</td>\n",
       "      <td>Teddy</td>\n",
       "      <td>#teddy</td>\n",
       "      <td>2018-01-08</td>\n",
       "      <td>2018-05-17</td>\n",
       "      <td>2018-01-08 13:59:10</td>\n",
       "      <td>2018-01-08 13:59:10</td>\n",
       "      <td>None</td>\n",
       "      <td>2</td>\n",
       "    </tr>\n",
       "  </tbody>\n",
       "</table>\n",
       "</div>"
      ],
      "text/plain": [
       "         date      time                                 path  user_id  \\\n",
       "0  2018-01-26  09:55:03                                    /        1   \n",
       "1  2018-01-26  09:56:02                              java-ii        1   \n",
       "2  2018-01-26  09:56:05  java-ii/object-oriented-programming        1   \n",
       "3  2018-01-26  09:56:06   slides/object_oriented_programming        1   \n",
       "4  2018-01-26  09:56:24            javascript-i/conditionals        2   \n",
       "\n",
       "   cohort_id            ip  id     name     slack  start_date    end_date  \\\n",
       "0        8.0  97.105.19.61   8  Hampton  #hampton  2015-09-22  2016-02-06   \n",
       "1        8.0  97.105.19.61   8  Hampton  #hampton  2015-09-22  2016-02-06   \n",
       "2        8.0  97.105.19.61   8  Hampton  #hampton  2015-09-22  2016-02-06   \n",
       "3        8.0  97.105.19.61   8  Hampton  #hampton  2015-09-22  2016-02-06   \n",
       "4       22.0  97.105.19.61  22    Teddy    #teddy  2018-01-08  2018-05-17   \n",
       "\n",
       "            created_at           updated_at deleted_at  program_id  \n",
       "0  2016-06-14 19:52:26  2016-06-14 19:52:26       None           1  \n",
       "1  2016-06-14 19:52:26  2016-06-14 19:52:26       None           1  \n",
       "2  2016-06-14 19:52:26  2016-06-14 19:52:26       None           1  \n",
       "3  2016-06-14 19:52:26  2016-06-14 19:52:26       None           1  \n",
       "4  2018-01-08 13:59:10  2018-01-08 13:59:10       None           2  "
      ]
     },
     "execution_count": 4,
     "metadata": {},
     "output_type": "execute_result"
    }
   ],
   "source": [
    "df.head()"
   ]
  },
  {
   "cell_type": "code",
   "execution_count": 6,
   "id": "d3c4398c-5f51-42ca-9cd7-b8723aa3801d",
   "metadata": {},
   "outputs": [],
   "source": [
    "df['access_time'] = df.apply(lambda row: str(row['date']) + str(row['time']), axis=1)"
   ]
  },
  {
   "cell_type": "code",
   "execution_count": 7,
   "id": "3fe1b57c-bb9e-4836-948c-f88bcb804151",
   "metadata": {},
   "outputs": [
    {
     "data": {
      "text/html": [
       "<div>\n",
       "<style scoped>\n",
       "    .dataframe tbody tr th:only-of-type {\n",
       "        vertical-align: middle;\n",
       "    }\n",
       "\n",
       "    .dataframe tbody tr th {\n",
       "        vertical-align: top;\n",
       "    }\n",
       "\n",
       "    .dataframe thead th {\n",
       "        text-align: right;\n",
       "    }\n",
       "</style>\n",
       "<table border=\"1\" class=\"dataframe\">\n",
       "  <thead>\n",
       "    <tr style=\"text-align: right;\">\n",
       "      <th></th>\n",
       "      <th>date</th>\n",
       "      <th>time</th>\n",
       "      <th>path</th>\n",
       "      <th>user_id</th>\n",
       "      <th>cohort_id</th>\n",
       "      <th>ip</th>\n",
       "      <th>id</th>\n",
       "      <th>name</th>\n",
       "      <th>slack</th>\n",
       "      <th>start_date</th>\n",
       "      <th>end_date</th>\n",
       "      <th>created_at</th>\n",
       "      <th>updated_at</th>\n",
       "      <th>deleted_at</th>\n",
       "      <th>program_id</th>\n",
       "      <th>access_time</th>\n",
       "    </tr>\n",
       "  </thead>\n",
       "  <tbody>\n",
       "    <tr>\n",
       "      <th>0</th>\n",
       "      <td>2018-01-26</td>\n",
       "      <td>09:55:03</td>\n",
       "      <td>/</td>\n",
       "      <td>1</td>\n",
       "      <td>8.0</td>\n",
       "      <td>97.105.19.61</td>\n",
       "      <td>8</td>\n",
       "      <td>Hampton</td>\n",
       "      <td>#hampton</td>\n",
       "      <td>2015-09-22</td>\n",
       "      <td>2016-02-06</td>\n",
       "      <td>2016-06-14 19:52:26</td>\n",
       "      <td>2016-06-14 19:52:26</td>\n",
       "      <td>None</td>\n",
       "      <td>1</td>\n",
       "      <td>2018-01-2609:55:03</td>\n",
       "    </tr>\n",
       "    <tr>\n",
       "      <th>1</th>\n",
       "      <td>2018-01-26</td>\n",
       "      <td>09:56:02</td>\n",
       "      <td>java-ii</td>\n",
       "      <td>1</td>\n",
       "      <td>8.0</td>\n",
       "      <td>97.105.19.61</td>\n",
       "      <td>8</td>\n",
       "      <td>Hampton</td>\n",
       "      <td>#hampton</td>\n",
       "      <td>2015-09-22</td>\n",
       "      <td>2016-02-06</td>\n",
       "      <td>2016-06-14 19:52:26</td>\n",
       "      <td>2016-06-14 19:52:26</td>\n",
       "      <td>None</td>\n",
       "      <td>1</td>\n",
       "      <td>2018-01-2609:56:02</td>\n",
       "    </tr>\n",
       "    <tr>\n",
       "      <th>2</th>\n",
       "      <td>2018-01-26</td>\n",
       "      <td>09:56:05</td>\n",
       "      <td>java-ii/object-oriented-programming</td>\n",
       "      <td>1</td>\n",
       "      <td>8.0</td>\n",
       "      <td>97.105.19.61</td>\n",
       "      <td>8</td>\n",
       "      <td>Hampton</td>\n",
       "      <td>#hampton</td>\n",
       "      <td>2015-09-22</td>\n",
       "      <td>2016-02-06</td>\n",
       "      <td>2016-06-14 19:52:26</td>\n",
       "      <td>2016-06-14 19:52:26</td>\n",
       "      <td>None</td>\n",
       "      <td>1</td>\n",
       "      <td>2018-01-2609:56:05</td>\n",
       "    </tr>\n",
       "    <tr>\n",
       "      <th>3</th>\n",
       "      <td>2018-01-26</td>\n",
       "      <td>09:56:06</td>\n",
       "      <td>slides/object_oriented_programming</td>\n",
       "      <td>1</td>\n",
       "      <td>8.0</td>\n",
       "      <td>97.105.19.61</td>\n",
       "      <td>8</td>\n",
       "      <td>Hampton</td>\n",
       "      <td>#hampton</td>\n",
       "      <td>2015-09-22</td>\n",
       "      <td>2016-02-06</td>\n",
       "      <td>2016-06-14 19:52:26</td>\n",
       "      <td>2016-06-14 19:52:26</td>\n",
       "      <td>None</td>\n",
       "      <td>1</td>\n",
       "      <td>2018-01-2609:56:06</td>\n",
       "    </tr>\n",
       "    <tr>\n",
       "      <th>4</th>\n",
       "      <td>2018-01-26</td>\n",
       "      <td>09:56:24</td>\n",
       "      <td>javascript-i/conditionals</td>\n",
       "      <td>2</td>\n",
       "      <td>22.0</td>\n",
       "      <td>97.105.19.61</td>\n",
       "      <td>22</td>\n",
       "      <td>Teddy</td>\n",
       "      <td>#teddy</td>\n",
       "      <td>2018-01-08</td>\n",
       "      <td>2018-05-17</td>\n",
       "      <td>2018-01-08 13:59:10</td>\n",
       "      <td>2018-01-08 13:59:10</td>\n",
       "      <td>None</td>\n",
       "      <td>2</td>\n",
       "      <td>2018-01-2609:56:24</td>\n",
       "    </tr>\n",
       "  </tbody>\n",
       "</table>\n",
       "</div>"
      ],
      "text/plain": [
       "         date      time                                 path  user_id  \\\n",
       "0  2018-01-26  09:55:03                                    /        1   \n",
       "1  2018-01-26  09:56:02                              java-ii        1   \n",
       "2  2018-01-26  09:56:05  java-ii/object-oriented-programming        1   \n",
       "3  2018-01-26  09:56:06   slides/object_oriented_programming        1   \n",
       "4  2018-01-26  09:56:24            javascript-i/conditionals        2   \n",
       "\n",
       "   cohort_id            ip  id     name     slack  start_date    end_date  \\\n",
       "0        8.0  97.105.19.61   8  Hampton  #hampton  2015-09-22  2016-02-06   \n",
       "1        8.0  97.105.19.61   8  Hampton  #hampton  2015-09-22  2016-02-06   \n",
       "2        8.0  97.105.19.61   8  Hampton  #hampton  2015-09-22  2016-02-06   \n",
       "3        8.0  97.105.19.61   8  Hampton  #hampton  2015-09-22  2016-02-06   \n",
       "4       22.0  97.105.19.61  22    Teddy    #teddy  2018-01-08  2018-05-17   \n",
       "\n",
       "            created_at           updated_at deleted_at  program_id  \\\n",
       "0  2016-06-14 19:52:26  2016-06-14 19:52:26       None           1   \n",
       "1  2016-06-14 19:52:26  2016-06-14 19:52:26       None           1   \n",
       "2  2016-06-14 19:52:26  2016-06-14 19:52:26       None           1   \n",
       "3  2016-06-14 19:52:26  2016-06-14 19:52:26       None           1   \n",
       "4  2018-01-08 13:59:10  2018-01-08 13:59:10       None           2   \n",
       "\n",
       "          access_time  \n",
       "0  2018-01-2609:55:03  \n",
       "1  2018-01-2609:56:02  \n",
       "2  2018-01-2609:56:05  \n",
       "3  2018-01-2609:56:06  \n",
       "4  2018-01-2609:56:24  "
      ]
     },
     "execution_count": 7,
     "metadata": {},
     "output_type": "execute_result"
    }
   ],
   "source": [
    "df.head()"
   ]
  },
  {
   "cell_type": "code",
   "execution_count": 8,
   "id": "b094380e-00ef-43db-a2fc-b5ad19ef677d",
   "metadata": {},
   "outputs": [
    {
     "data": {
      "text/plain": [
       "(847330, 16)"
      ]
     },
     "execution_count": 8,
     "metadata": {},
     "output_type": "execute_result"
    }
   ],
   "source": [
    "df.shape"
   ]
  },
  {
   "cell_type": "code",
   "execution_count": null,
   "id": "e3bafd1f-90d1-49d7-b97c-b36dbd6abcbe",
   "metadata": {},
   "outputs": [],
   "source": []
  },
  {
   "cell_type": "code",
   "execution_count": 9,
   "id": "5b31493a-85e4-4b0f-9754-3f6c8b2be2fe",
   "metadata": {},
   "outputs": [],
   "source": [
    "df=df.rename(columns={'name':'cohort','created_at':'created','updated_at':'updated','date':'access_date'})"
   ]
  },
  {
   "cell_type": "code",
   "execution_count": 10,
   "id": "5487d471-4086-467d-86bf-c1bcecf9a4f6",
   "metadata": {},
   "outputs": [
    {
     "data": {
      "text/html": [
       "<div>\n",
       "<style scoped>\n",
       "    .dataframe tbody tr th:only-of-type {\n",
       "        vertical-align: middle;\n",
       "    }\n",
       "\n",
       "    .dataframe tbody tr th {\n",
       "        vertical-align: top;\n",
       "    }\n",
       "\n",
       "    .dataframe thead th {\n",
       "        text-align: right;\n",
       "    }\n",
       "</style>\n",
       "<table border=\"1\" class=\"dataframe\">\n",
       "  <thead>\n",
       "    <tr style=\"text-align: right;\">\n",
       "      <th></th>\n",
       "      <th>access_date</th>\n",
       "      <th>time</th>\n",
       "      <th>path</th>\n",
       "      <th>user_id</th>\n",
       "      <th>cohort_id</th>\n",
       "      <th>ip</th>\n",
       "      <th>id</th>\n",
       "      <th>cohort</th>\n",
       "      <th>slack</th>\n",
       "      <th>start_date</th>\n",
       "      <th>end_date</th>\n",
       "      <th>created</th>\n",
       "      <th>updated</th>\n",
       "      <th>deleted_at</th>\n",
       "      <th>program_id</th>\n",
       "      <th>access_time</th>\n",
       "    </tr>\n",
       "  </thead>\n",
       "  <tbody>\n",
       "    <tr>\n",
       "      <th>0</th>\n",
       "      <td>2018-01-26</td>\n",
       "      <td>09:55:03</td>\n",
       "      <td>/</td>\n",
       "      <td>1</td>\n",
       "      <td>8.0</td>\n",
       "      <td>97.105.19.61</td>\n",
       "      <td>8</td>\n",
       "      <td>Hampton</td>\n",
       "      <td>#hampton</td>\n",
       "      <td>2015-09-22</td>\n",
       "      <td>2016-02-06</td>\n",
       "      <td>2016-06-14 19:52:26</td>\n",
       "      <td>2016-06-14 19:52:26</td>\n",
       "      <td>None</td>\n",
       "      <td>1</td>\n",
       "      <td>2018-01-2609:55:03</td>\n",
       "    </tr>\n",
       "    <tr>\n",
       "      <th>1</th>\n",
       "      <td>2018-01-26</td>\n",
       "      <td>09:56:02</td>\n",
       "      <td>java-ii</td>\n",
       "      <td>1</td>\n",
       "      <td>8.0</td>\n",
       "      <td>97.105.19.61</td>\n",
       "      <td>8</td>\n",
       "      <td>Hampton</td>\n",
       "      <td>#hampton</td>\n",
       "      <td>2015-09-22</td>\n",
       "      <td>2016-02-06</td>\n",
       "      <td>2016-06-14 19:52:26</td>\n",
       "      <td>2016-06-14 19:52:26</td>\n",
       "      <td>None</td>\n",
       "      <td>1</td>\n",
       "      <td>2018-01-2609:56:02</td>\n",
       "    </tr>\n",
       "    <tr>\n",
       "      <th>2</th>\n",
       "      <td>2018-01-26</td>\n",
       "      <td>09:56:05</td>\n",
       "      <td>java-ii/object-oriented-programming</td>\n",
       "      <td>1</td>\n",
       "      <td>8.0</td>\n",
       "      <td>97.105.19.61</td>\n",
       "      <td>8</td>\n",
       "      <td>Hampton</td>\n",
       "      <td>#hampton</td>\n",
       "      <td>2015-09-22</td>\n",
       "      <td>2016-02-06</td>\n",
       "      <td>2016-06-14 19:52:26</td>\n",
       "      <td>2016-06-14 19:52:26</td>\n",
       "      <td>None</td>\n",
       "      <td>1</td>\n",
       "      <td>2018-01-2609:56:05</td>\n",
       "    </tr>\n",
       "    <tr>\n",
       "      <th>3</th>\n",
       "      <td>2018-01-26</td>\n",
       "      <td>09:56:06</td>\n",
       "      <td>slides/object_oriented_programming</td>\n",
       "      <td>1</td>\n",
       "      <td>8.0</td>\n",
       "      <td>97.105.19.61</td>\n",
       "      <td>8</td>\n",
       "      <td>Hampton</td>\n",
       "      <td>#hampton</td>\n",
       "      <td>2015-09-22</td>\n",
       "      <td>2016-02-06</td>\n",
       "      <td>2016-06-14 19:52:26</td>\n",
       "      <td>2016-06-14 19:52:26</td>\n",
       "      <td>None</td>\n",
       "      <td>1</td>\n",
       "      <td>2018-01-2609:56:06</td>\n",
       "    </tr>\n",
       "    <tr>\n",
       "      <th>4</th>\n",
       "      <td>2018-01-26</td>\n",
       "      <td>09:56:24</td>\n",
       "      <td>javascript-i/conditionals</td>\n",
       "      <td>2</td>\n",
       "      <td>22.0</td>\n",
       "      <td>97.105.19.61</td>\n",
       "      <td>22</td>\n",
       "      <td>Teddy</td>\n",
       "      <td>#teddy</td>\n",
       "      <td>2018-01-08</td>\n",
       "      <td>2018-05-17</td>\n",
       "      <td>2018-01-08 13:59:10</td>\n",
       "      <td>2018-01-08 13:59:10</td>\n",
       "      <td>None</td>\n",
       "      <td>2</td>\n",
       "      <td>2018-01-2609:56:24</td>\n",
       "    </tr>\n",
       "  </tbody>\n",
       "</table>\n",
       "</div>"
      ],
      "text/plain": [
       "  access_date      time                                 path  user_id  \\\n",
       "0  2018-01-26  09:55:03                                    /        1   \n",
       "1  2018-01-26  09:56:02                              java-ii        1   \n",
       "2  2018-01-26  09:56:05  java-ii/object-oriented-programming        1   \n",
       "3  2018-01-26  09:56:06   slides/object_oriented_programming        1   \n",
       "4  2018-01-26  09:56:24            javascript-i/conditionals        2   \n",
       "\n",
       "   cohort_id            ip  id   cohort     slack  start_date    end_date  \\\n",
       "0        8.0  97.105.19.61   8  Hampton  #hampton  2015-09-22  2016-02-06   \n",
       "1        8.0  97.105.19.61   8  Hampton  #hampton  2015-09-22  2016-02-06   \n",
       "2        8.0  97.105.19.61   8  Hampton  #hampton  2015-09-22  2016-02-06   \n",
       "3        8.0  97.105.19.61   8  Hampton  #hampton  2015-09-22  2016-02-06   \n",
       "4       22.0  97.105.19.61  22    Teddy    #teddy  2018-01-08  2018-05-17   \n",
       "\n",
       "               created              updated deleted_at  program_id  \\\n",
       "0  2016-06-14 19:52:26  2016-06-14 19:52:26       None           1   \n",
       "1  2016-06-14 19:52:26  2016-06-14 19:52:26       None           1   \n",
       "2  2016-06-14 19:52:26  2016-06-14 19:52:26       None           1   \n",
       "3  2016-06-14 19:52:26  2016-06-14 19:52:26       None           1   \n",
       "4  2018-01-08 13:59:10  2018-01-08 13:59:10       None           2   \n",
       "\n",
       "          access_time  \n",
       "0  2018-01-2609:55:03  \n",
       "1  2018-01-2609:56:02  \n",
       "2  2018-01-2609:56:05  \n",
       "3  2018-01-2609:56:06  \n",
       "4  2018-01-2609:56:24  "
      ]
     },
     "execution_count": 10,
     "metadata": {},
     "output_type": "execute_result"
    }
   ],
   "source": [
    "df.head()"
   ]
  },
  {
   "cell_type": "code",
   "execution_count": 11,
   "id": "fdbc4ca8-92eb-4b5d-b2ca-1624ec612cc1",
   "metadata": {},
   "outputs": [],
   "source": [
    "df=df.drop(columns={'slack','deleted_at'})"
   ]
  },
  {
   "cell_type": "code",
   "execution_count": 12,
   "id": "1ab45afb-37fa-4f79-b1b9-e5c1100fea54",
   "metadata": {},
   "outputs": [
    {
     "data": {
      "text/html": [
       "<div>\n",
       "<style scoped>\n",
       "    .dataframe tbody tr th:only-of-type {\n",
       "        vertical-align: middle;\n",
       "    }\n",
       "\n",
       "    .dataframe tbody tr th {\n",
       "        vertical-align: top;\n",
       "    }\n",
       "\n",
       "    .dataframe thead th {\n",
       "        text-align: right;\n",
       "    }\n",
       "</style>\n",
       "<table border=\"1\" class=\"dataframe\">\n",
       "  <thead>\n",
       "    <tr style=\"text-align: right;\">\n",
       "      <th></th>\n",
       "      <th>access_date</th>\n",
       "      <th>time</th>\n",
       "      <th>path</th>\n",
       "      <th>user_id</th>\n",
       "      <th>cohort_id</th>\n",
       "      <th>ip</th>\n",
       "      <th>id</th>\n",
       "      <th>cohort</th>\n",
       "      <th>start_date</th>\n",
       "      <th>end_date</th>\n",
       "      <th>created</th>\n",
       "      <th>updated</th>\n",
       "      <th>program_id</th>\n",
       "      <th>access_time</th>\n",
       "    </tr>\n",
       "  </thead>\n",
       "  <tbody>\n",
       "    <tr>\n",
       "      <th>0</th>\n",
       "      <td>2018-01-26</td>\n",
       "      <td>09:55:03</td>\n",
       "      <td>/</td>\n",
       "      <td>1</td>\n",
       "      <td>8.0</td>\n",
       "      <td>97.105.19.61</td>\n",
       "      <td>8</td>\n",
       "      <td>Hampton</td>\n",
       "      <td>2015-09-22</td>\n",
       "      <td>2016-02-06</td>\n",
       "      <td>2016-06-14 19:52:26</td>\n",
       "      <td>2016-06-14 19:52:26</td>\n",
       "      <td>1</td>\n",
       "      <td>2018-01-2609:55:03</td>\n",
       "    </tr>\n",
       "    <tr>\n",
       "      <th>1</th>\n",
       "      <td>2018-01-26</td>\n",
       "      <td>09:56:02</td>\n",
       "      <td>java-ii</td>\n",
       "      <td>1</td>\n",
       "      <td>8.0</td>\n",
       "      <td>97.105.19.61</td>\n",
       "      <td>8</td>\n",
       "      <td>Hampton</td>\n",
       "      <td>2015-09-22</td>\n",
       "      <td>2016-02-06</td>\n",
       "      <td>2016-06-14 19:52:26</td>\n",
       "      <td>2016-06-14 19:52:26</td>\n",
       "      <td>1</td>\n",
       "      <td>2018-01-2609:56:02</td>\n",
       "    </tr>\n",
       "    <tr>\n",
       "      <th>2</th>\n",
       "      <td>2018-01-26</td>\n",
       "      <td>09:56:05</td>\n",
       "      <td>java-ii/object-oriented-programming</td>\n",
       "      <td>1</td>\n",
       "      <td>8.0</td>\n",
       "      <td>97.105.19.61</td>\n",
       "      <td>8</td>\n",
       "      <td>Hampton</td>\n",
       "      <td>2015-09-22</td>\n",
       "      <td>2016-02-06</td>\n",
       "      <td>2016-06-14 19:52:26</td>\n",
       "      <td>2016-06-14 19:52:26</td>\n",
       "      <td>1</td>\n",
       "      <td>2018-01-2609:56:05</td>\n",
       "    </tr>\n",
       "    <tr>\n",
       "      <th>3</th>\n",
       "      <td>2018-01-26</td>\n",
       "      <td>09:56:06</td>\n",
       "      <td>slides/object_oriented_programming</td>\n",
       "      <td>1</td>\n",
       "      <td>8.0</td>\n",
       "      <td>97.105.19.61</td>\n",
       "      <td>8</td>\n",
       "      <td>Hampton</td>\n",
       "      <td>2015-09-22</td>\n",
       "      <td>2016-02-06</td>\n",
       "      <td>2016-06-14 19:52:26</td>\n",
       "      <td>2016-06-14 19:52:26</td>\n",
       "      <td>1</td>\n",
       "      <td>2018-01-2609:56:06</td>\n",
       "    </tr>\n",
       "    <tr>\n",
       "      <th>4</th>\n",
       "      <td>2018-01-26</td>\n",
       "      <td>09:56:24</td>\n",
       "      <td>javascript-i/conditionals</td>\n",
       "      <td>2</td>\n",
       "      <td>22.0</td>\n",
       "      <td>97.105.19.61</td>\n",
       "      <td>22</td>\n",
       "      <td>Teddy</td>\n",
       "      <td>2018-01-08</td>\n",
       "      <td>2018-05-17</td>\n",
       "      <td>2018-01-08 13:59:10</td>\n",
       "      <td>2018-01-08 13:59:10</td>\n",
       "      <td>2</td>\n",
       "      <td>2018-01-2609:56:24</td>\n",
       "    </tr>\n",
       "  </tbody>\n",
       "</table>\n",
       "</div>"
      ],
      "text/plain": [
       "  access_date      time                                 path  user_id  \\\n",
       "0  2018-01-26  09:55:03                                    /        1   \n",
       "1  2018-01-26  09:56:02                              java-ii        1   \n",
       "2  2018-01-26  09:56:05  java-ii/object-oriented-programming        1   \n",
       "3  2018-01-26  09:56:06   slides/object_oriented_programming        1   \n",
       "4  2018-01-26  09:56:24            javascript-i/conditionals        2   \n",
       "\n",
       "   cohort_id            ip  id   cohort  start_date    end_date  \\\n",
       "0        8.0  97.105.19.61   8  Hampton  2015-09-22  2016-02-06   \n",
       "1        8.0  97.105.19.61   8  Hampton  2015-09-22  2016-02-06   \n",
       "2        8.0  97.105.19.61   8  Hampton  2015-09-22  2016-02-06   \n",
       "3        8.0  97.105.19.61   8  Hampton  2015-09-22  2016-02-06   \n",
       "4       22.0  97.105.19.61  22    Teddy  2018-01-08  2018-05-17   \n",
       "\n",
       "               created              updated  program_id         access_time  \n",
       "0  2016-06-14 19:52:26  2016-06-14 19:52:26           1  2018-01-2609:55:03  \n",
       "1  2016-06-14 19:52:26  2016-06-14 19:52:26           1  2018-01-2609:56:02  \n",
       "2  2016-06-14 19:52:26  2016-06-14 19:52:26           1  2018-01-2609:56:05  \n",
       "3  2016-06-14 19:52:26  2016-06-14 19:52:26           1  2018-01-2609:56:06  \n",
       "4  2018-01-08 13:59:10  2018-01-08 13:59:10           2  2018-01-2609:56:24  "
      ]
     },
     "execution_count": 12,
     "metadata": {},
     "output_type": "execute_result"
    }
   ],
   "source": [
    "df.head()"
   ]
  },
  {
   "cell_type": "code",
   "execution_count": 12,
   "id": "f3bc36d8-3efc-4084-aff6-ba71ad8f0ade",
   "metadata": {},
   "outputs": [],
   "source": [
    "df.start_date=df.start_date.astype('datetime64')\n",
    "df.end_date=df.end_date.astype('datetime64')\n",
    "df.created=df.created.astype('datetime64')\n",
    "df.updated=df.updated.astype('datetime64')\n",
    "df.access_date=df.access_date.astype('datetime64')\n",
    "df.time=df.time.astype('datetime64')"
   ]
  },
  {
   "cell_type": "code",
   "execution_count": 13,
   "id": "45f0be12-c42b-46a3-a42f-caaeee391e48",
   "metadata": {},
   "outputs": [
    {
     "name": "stdout",
     "output_type": "stream",
     "text": [
      "<class 'pandas.core.frame.DataFrame'>\n",
      "Int64Index: 73739 entries, 0 to 73738\n",
      "Data columns (total 14 columns):\n",
      " #   Column       Non-Null Count  Dtype         \n",
      "---  ------       --------------  -----         \n",
      " 0   id           73739 non-null  int64         \n",
      " 1   cohort       73739 non-null  object        \n",
      " 2   start_date   73739 non-null  datetime64[ns]\n",
      " 3   end_date     73739 non-null  datetime64[ns]\n",
      " 4   created      73739 non-null  datetime64[ns]\n",
      " 5   updated      73739 non-null  datetime64[ns]\n",
      " 6   program_id   73739 non-null  int64         \n",
      " 7   access_date  73739 non-null  datetime64[ns]\n",
      " 8   time         73739 non-null  datetime64[ns]\n",
      " 9   path         73739 non-null  object        \n",
      " 10  user_id      73739 non-null  int64         \n",
      " 11  cohort_id    72405 non-null  float64       \n",
      " 12  ip           73739 non-null  object        \n",
      " 13  access_time  73739 non-null  object        \n",
      "dtypes: datetime64[ns](6), float64(1), int64(3), object(4)\n",
      "memory usage: 8.4+ MB\n"
     ]
    }
   ],
   "source": [
    "df.info()"
   ]
  },
  {
   "cell_type": "code",
   "execution_count": 14,
   "id": "916c05e1-e43a-4396-94a0-e929aad40ef5",
   "metadata": {},
   "outputs": [
    {
     "data": {
      "text/plain": [
       "id                0\n",
       "cohort            0\n",
       "start_date        0\n",
       "end_date          0\n",
       "created           0\n",
       "updated           0\n",
       "program_id        0\n",
       "access_date       0\n",
       "time              0\n",
       "path              0\n",
       "user_id           0\n",
       "cohort_id      1334\n",
       "ip                0\n",
       "access_time       0\n",
       "dtype: int64"
      ]
     },
     "execution_count": 14,
     "metadata": {},
     "output_type": "execute_result"
    }
   ],
   "source": [
    "df.isnull().sum()"
   ]
  },
  {
   "cell_type": "code",
   "execution_count": 15,
   "id": "423b3d09-a324-4caa-a8fb-96cb8d29b524",
   "metadata": {},
   "outputs": [
    {
     "data": {
      "text/plain": [
       "1    37794\n",
       "2    31980\n",
       "3     2458\n",
       "4     1507\n",
       "Name: program_id, dtype: int64"
      ]
     },
     "execution_count": 15,
     "metadata": {},
     "output_type": "execute_result"
    }
   ],
   "source": [
    "df.program_id.value_counts()"
   ]
  },
  {
   "cell_type": "code",
   "execution_count": 16,
   "id": "05df0df2-88ae-4add-aea5-b7441d92a0d1",
   "metadata": {},
   "outputs": [
    {
     "data": {
      "text/plain": [
       "10"
      ]
     },
     "execution_count": 16,
     "metadata": {},
     "output_type": "execute_result"
    }
   ],
   "source": [
    "df.cohort_id.nunique()"
   ]
  },
  {
   "cell_type": "code",
   "execution_count": 17,
   "id": "c64304bb-e99d-4cc3-b768-fed27654b579",
   "metadata": {},
   "outputs": [
    {
     "data": {
      "text/plain": [
       "28.0    25097\n",
       "22.0    23840\n",
       "14.0     8401\n",
       "23.0     5612\n",
       "21.0     3413\n",
       "1.0      3252\n",
       "8.0      1617\n",
       "13.0      592\n",
       "18.0      474\n",
       "16.0      107\n",
       "Name: cohort_id, dtype: int64"
      ]
     },
     "execution_count": 17,
     "metadata": {},
     "output_type": "execute_result"
    }
   ],
   "source": [
    "df.cohort_id.value_counts()"
   ]
  },
  {
   "cell_type": "code",
   "execution_count": 18,
   "id": "23373d0b-70f7-4696-a12b-56fa7f907738",
   "metadata": {},
   "outputs": [
    {
     "data": {
      "text/plain": [
       "1    37794\n",
       "2    31980\n",
       "3     2458\n",
       "4     1507\n",
       "Name: program_id, dtype: int64"
      ]
     },
     "execution_count": 18,
     "metadata": {},
     "output_type": "execute_result"
    }
   ],
   "source": [
    "df.program_id.value_counts()"
   ]
  },
  {
   "cell_type": "code",
   "execution_count": null,
   "id": "a684c299-f1dd-4cb5-934b-51a381fdd308",
   "metadata": {},
   "outputs": [],
   "source": [
    "df.cohort_id.isnull().value_counts(normalize=True)"
   ]
  },
  {
   "cell_type": "code",
   "execution_count": null,
   "id": "c538ea15-b606-4bca-9526-6fd7cbceb860",
   "metadata": {},
   "outputs": [],
   "source": [
    "df['program'] = df.program_id.map({1:'data science',2:'web dev',3:'web dev',4:'web dev'})"
   ]
  },
  {
   "cell_type": "code",
   "execution_count": null,
   "id": "459e9e03-481f-4c22-a616-0cf4496ba062",
   "metadata": {},
   "outputs": [],
   "source": [
    "df.head()"
   ]
  },
  {
   "cell_type": "code",
   "execution_count": null,
   "id": "4bfb48dd-3aa5-40fd-ab1c-ae1ff775e45f",
   "metadata": {},
   "outputs": [],
   "source": [
    "df.access_date=df.access_date.astype('datetime64')\n",
    "    df.time=df.time.astype('datetime64')"
   ]
  },
  {
   "cell_type": "code",
   "execution_count": null,
   "id": "cafaa505-779a-4ab3-bc2a-1b4bba9099bb",
   "metadata": {},
   "outputs": [],
   "source": [
    "def prep_logs(df):\n",
    "    df['access_date'] = df.apply(lambda row: str(row['date']) + ' ' + str(row['time']), axis=1)\n",
    "    df=df.drop(columns={'Unnamed: 0','id','slack','deleted_at','date','time'})\n",
    "    df=df.rename(columns={'name':'cohort','created_at':'created','updated_at':'updated'})\n",
    "    df.start_date=df.start_date.astype('datetime64')\n",
    "    df.end_date=df.end_date.astype('datetime64')\n",
    "    df.created=df.created.astype('datetime64')\n",
    "    df.updated=df.updated.astype('datetime64')\n",
    "    df.access_date=df.access_date.astype('datetime64')\n",
    "    df['program'] = df.program_id.map({1:'data science',2:'web dev',3:'web dev',4:'web dev'})\n",
    "    cohort_id_mapping = {'Bash': 2, 'Darden': 3, 'Florence': 4,'Hyperion':5,'Jupiter':6}\n",
    "    df['cohort_id'].fillna(df['cohort'].map(cohort_id_mapping), inplace=True)\n",
    "    return df\n"
   ]
  },
  {
   "cell_type": "code",
   "execution_count": null,
   "id": "ce59a3c2-0571-419b-bfa3-e4b8edd46505",
   "metadata": {},
   "outputs": [],
   "source": [
    "df['lesson'] = df['path'].str.split('/').str[-2]"
   ]
  },
  {
   "cell_type": "code",
   "execution_count": null,
   "id": "b5121ba9-8838-428b-aa75-37bb4df4cb09",
   "metadata": {},
   "outputs": [],
   "source": [
    " df['endpoint'] = df['path'].str.split('/').str[-1]"
   ]
  },
  {
   "cell_type": "code",
   "execution_count": null,
   "id": "af2b0ec8-3a3e-4fb6-abf4-bb4244fa7c50",
   "metadata": {},
   "outputs": [],
   "source": [
    "df.program_id.value_counts()"
   ]
  },
  {
   "cell_type": "code",
   "execution_count": null,
   "id": "26e3d014-5b70-43cf-beeb-9b7da07fd915",
   "metadata": {},
   "outputs": [],
   "source": [
    "program_1=df[df.program_id==1]\n",
    "program_1.sample(40)"
   ]
  },
  {
   "cell_type": "code",
   "execution_count": null,
   "id": "50c5dde6-cc19-4991-aaad-777fc1675364",
   "metadata": {},
   "outputs": [],
   "source": [
    "program_1.lesson.value_counts()"
   ]
  },
  {
   "cell_type": "code",
   "execution_count": null,
   "id": "6363563f-355e-47a2-98f1-bcf4cc99f0c7",
   "metadata": {},
   "outputs": [],
   "source": [
    "program_1.endpointb.value_counts()"
   ]
  },
  {
   "cell_type": "code",
   "execution_count": null,
   "id": "c2df29ed-1321-4083-846f-d38a6314834c",
   "metadata": {},
   "outputs": [],
   "source": [
    "program_1.start_date.value_counts().sort_index()"
   ]
  },
  {
   "cell_type": "code",
   "execution_count": null,
   "id": "f8f0068d-b9ea-4712-b5cd-33918edc1ddb",
   "metadata": {},
   "outputs": [],
   "source": [
    "program_2=df[df.program_id==2]\n",
    "program_2.sample(30)"
   ]
  },
  {
   "cell_type": "code",
   "execution_count": null,
   "id": "1fb795a7-34ed-41c1-8496-63110b4e9c21",
   "metadata": {},
   "outputs": [],
   "source": [
    "program_2=df[df.program_id==2]\n",
    "program_2.lesson.value_counts()"
   ]
  },
  {
   "cell_type": "code",
   "execution_count": null,
   "id": "f7112fb4-112e-4036-b69e-c8f2fa6e31f0",
   "metadata": {},
   "outputs": [],
   "source": [
    "program_2.endpoint.value_counts()"
   ]
  },
  {
   "cell_type": "code",
   "execution_count": null,
   "id": "66a8168f-0cd7-4b84-a13b-3466e163f403",
   "metadata": {},
   "outputs": [],
   "source": [
    "program_2.start_date.value_counts().sort_index()"
   ]
  },
  {
   "cell_type": "code",
   "execution_count": null,
   "id": "716d6f6d-dcf5-43a2-8c16-9419f8cc7185",
   "metadata": {},
   "outputs": [],
   "source": [
    "program_3=df[df.program_id==3]\n",
    "program_3.sample(20)"
   ]
  },
  {
   "cell_type": "code",
   "execution_count": null,
   "id": "864af549-0059-4a23-860c-6f9119ec835a",
   "metadata": {},
   "outputs": [],
   "source": [
    "program_3=df[df.program_id==3]\n",
    "program_3.lesson.value_counts()"
   ]
  },
  {
   "cell_type": "code",
   "execution_count": null,
   "id": "b7c5435e-2886-4798-b7cd-8bf5a0721e48",
   "metadata": {},
   "outputs": [],
   "source": [
    "program_3.endpoint.value_counts()"
   ]
  },
  {
   "cell_type": "code",
   "execution_count": null,
   "id": "fe82e6e4-9247-4086-8359-64a55303651d",
   "metadata": {},
   "outputs": [],
   "source": [
    "program_3.start_date.value_counts().sort_index()"
   ]
  },
  {
   "cell_type": "code",
   "execution_count": null,
   "id": "73e96bad-3b60-4926-8b4d-6fda0836b5b7",
   "metadata": {},
   "outputs": [],
   "source": [
    "program_4=df[df.program_id==4]\n",
    "program_4.lesson.value_counts()"
   ]
  },
  {
   "cell_type": "code",
   "execution_count": null,
   "id": "26d62f32-78bd-4a18-9164-ae74bc99ed7a",
   "metadata": {},
   "outputs": [],
   "source": []
  },
  {
   "cell_type": "code",
   "execution_count": null,
   "id": "61a3e64c-4533-4038-925e-867b744185ce",
   "metadata": {},
   "outputs": [],
   "source": [
    "program_4.endpoint.value_counts()"
   ]
  },
  {
   "cell_type": "code",
   "execution_count": null,
   "id": "7d75ce49-6e24-433f-8a3b-50ccd0bf94d8",
   "metadata": {},
   "outputs": [],
   "source": [
    "program_4.start_date.value_counts().sort_index()"
   ]
  },
  {
   "cell_type": "code",
   "execution_count": null,
   "id": "871ac29a-c473-4d8c-885e-d641161dd581",
   "metadata": {},
   "outputs": [],
   "source": []
  },
  {
   "cell_type": "code",
   "execution_count": null,
   "id": "4d8ea4d0-f029-4ec9-8359-d0730427338f",
   "metadata": {},
   "outputs": [],
   "source": [
    "df.cohort.nunique()"
   ]
  },
  {
   "cell_type": "code",
   "execution_count": null,
   "id": "b969d7ef-6267-4deb-8389-be756f269f9e",
   "metadata": {},
   "outputs": [],
   "source": [
    "df.cohort_id.nunique()"
   ]
  },
  {
   "cell_type": "code",
   "execution_count": null,
   "id": "1a41ccd1-0a2c-40b6-86d3-3d52363cf8de",
   "metadata": {},
   "outputs": [],
   "source": [
    "df.groupby(['cohort']).sum()"
   ]
  },
  {
   "cell_type": "code",
   "execution_count": null,
   "id": "f6299234-0769-49d9-a064-156fd097fc99",
   "metadata": {},
   "outputs": [],
   "source": [
    "df.cohort_id.value_counts()"
   ]
  },
  {
   "cell_type": "code",
   "execution_count": null,
   "id": "cf1ad348-387f-4faf-9dc1-9104576fd3ed",
   "metadata": {},
   "outputs": [],
   "source": [
    "df=a.get_logs(directory,filename)"
   ]
  },
  {
   "cell_type": "code",
   "execution_count": null,
   "id": "a9522a1e-c707-4cf6-b5ab-afa6971209d4",
   "metadata": {},
   "outputs": [],
   "source": [
    "df=prep_logs(df)"
   ]
  },
  {
   "cell_type": "code",
   "execution_count": null,
   "id": "24fcd4f3-4df7-43ec-af11-281fa97ad3b4",
   "metadata": {},
   "outputs": [],
   "source": [
    "df.head()"
   ]
  },
  {
   "cell_type": "code",
   "execution_count": null,
   "id": "ccd92e3e-ba5a-4310-91ae-2a80f34c60bf",
   "metadata": {},
   "outputs": [],
   "source": [
    "df.cohort_id.value_counts()"
   ]
  },
  {
   "cell_type": "code",
   "execution_count": null,
   "id": "83b30560-266c-4660-9956-a45b4e1ce2f4",
   "metadata": {},
   "outputs": [],
   "source": [
    "cohort_id_mapping = {'Bash': 2, 'Darden': 3, 'Florence': 4,'Hyperion':5,'Jupiter':6}"
   ]
  },
  {
   "cell_type": "code",
   "execution_count": null,
   "id": "327a2e87-32a2-496a-a4d7-0516aca7d68a",
   "metadata": {},
   "outputs": [],
   "source": [
    "df['cohort_id'].fillna(df['cohort'].map(cohort_id_mapping), inplace=True)"
   ]
  },
  {
   "cell_type": "code",
   "execution_count": null,
   "id": "8ab23be3-35bc-4a2d-8c77-3e934a1d641c",
   "metadata": {},
   "outputs": [],
   "source": [
    "df.cohort_id.value_counts()"
   ]
  },
  {
   "cell_type": "code",
   "execution_count": null,
   "id": "14970f32-b180-4fc1-a069-4c70668411c7",
   "metadata": {},
   "outputs": [],
   "source": [
    "df.shape"
   ]
  },
  {
   "cell_type": "code",
   "execution_count": null,
   "id": "24a7bf75-497e-492b-a2cd-07232c10dc33",
   "metadata": {},
   "outputs": [],
   "source": []
  },
  {
   "cell_type": "code",
   "execution_count": null,
   "id": "a1ec64da-f32b-429a-bdd1-6ca49c3d0ea3",
   "metadata": {},
   "outputs": [],
   "source": [
    "program_4.access_date.value_counts().sort_index()"
   ]
  },
  {
   "cell_type": "code",
   "execution_count": null,
   "id": "ed492b86-6c9a-405f-9012-e9d2d496f792",
   "metadata": {},
   "outputs": [],
   "source": []
  }
 ],
 "metadata": {
  "kernelspec": {
   "display_name": "Python 3 (ipykernel)",
   "language": "python",
   "name": "python3"
  },
  "language_info": {
   "codemirror_mode": {
    "name": "ipython",
    "version": 3
   },
   "file_extension": ".py",
   "mimetype": "text/x-python",
   "name": "python",
   "nbconvert_exporter": "python",
   "pygments_lexer": "ipython3",
   "version": "3.9.13"
  }
 },
 "nbformat": 4,
 "nbformat_minor": 5
}
